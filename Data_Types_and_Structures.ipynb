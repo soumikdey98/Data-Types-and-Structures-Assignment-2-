{
  "nbformat": 4,
  "nbformat_minor": 0,
  "metadata": {
    "colab": {
      "provenance": []
    },
    "kernelspec": {
      "name": "python3",
      "display_name": "Python 3"
    },
    "language_info": {
      "name": "python"
    }
  },
  "cells": [
    {
      "cell_type": "code",
      "execution_count": null,
      "metadata": {
        "id": "APIKS0N2WMp-"
      },
      "outputs": [],
      "source": [
        "                             ##Data Types and Structures"
      ]
    },
    {
      "cell_type": "markdown",
      "source": [
        "##1.What are data structures, and why are they important?\n",
        "-->**Data structures** are specialized formats for organizing, storing, and managing data to enable efficient access, modification, and processing. They are crucial because they optimize performancem reduce resource usage, and siplify complex operations in programs.\n",
        "\n",
        "**Importance:**\n",
        "\n",
        "**Efficiency**: Enable fast data retrieval, insertion, and deletion (e.g., searching in O(1) with hash tables).\n",
        "\n",
        "**Scalability**: Handle large datasets effectively (e.g., trees for hierarchical data).\n",
        "\n",
        "**Organization**: Structure data for specific use cases (e.g., graphs for networks).\n",
        "Reusability: Provide standardized solutions for common problems."
      ],
      "metadata": {
        "id": "tEdEnDYKWTp3"
      }
    },
    {
      "cell_type": "markdown",
      "source": [],
      "metadata": {
        "id": "TeAgYcCfZOGj"
      }
    },
    {
      "cell_type": "markdown",
      "source": [
        "##2.Explain the difference between mutable and immutable data types with examples.\n",
        "-->**Mutable Data types**: objects whose state or contents can be altered after creation.\n",
        "\n",
        "1.can be changed in-place\n",
        "\n",
        "2.same object ID after changes\n",
        "\n",
        "3.Faster for incentersplace edits.\n",
        "\n",
        "**eg, List, Dictionary, set**"
      ],
      "metadata": {
        "id": "Ezq6Gf7YZl2X"
      }
    },
    {
      "cell_type": "code",
      "source": [
        "my_list = [1, 3, 5, \"apple\", 4.666]"
      ],
      "metadata": {
        "id": "RO7BWSaXa-Hu"
      },
      "execution_count": null,
      "outputs": []
    },
    {
      "cell_type": "code",
      "source": [
        "my_list.append(9)"
      ],
      "metadata": {
        "id": "BnL7P648bMl-"
      },
      "execution_count": null,
      "outputs": []
    },
    {
      "cell_type": "code",
      "source": [
        "print(my_list) #Therefore, list is modifible"
      ],
      "metadata": {
        "colab": {
          "base_uri": "https://localhost:8080/"
        },
        "id": "LgRdnDOrbRge",
        "outputId": "f5cc8b70-6ce2-4db4-e076-bcb26bee9599"
      },
      "execution_count": null,
      "outputs": [
        {
          "output_type": "stream",
          "name": "stdout",
          "text": [
            "[1, 3, 5, 'apple', 4.666, 9]\n"
          ]
        }
      ]
    },
    {
      "cell_type": "code",
      "source": [
        "My_Dict={\"a\":1,\"b\":2 , \"c\":3}"
      ],
      "metadata": {
        "id": "nGc7hvQ6bT8s"
      },
      "execution_count": null,
      "outputs": []
    },
    {
      "cell_type": "code",
      "source": [
        "My_Dict[\"m\"]=13"
      ],
      "metadata": {
        "id": "Jtwfc7iPbur2"
      },
      "execution_count": null,
      "outputs": []
    },
    {
      "cell_type": "code",
      "source": [
        "print(My_Dict)"
      ],
      "metadata": {
        "colab": {
          "base_uri": "https://localhost:8080/"
        },
        "id": "U2VcrgJXcFxH",
        "outputId": "51bbdad1-c467-43fe-cbe8-55e69af8e8d7"
      },
      "execution_count": null,
      "outputs": [
        {
          "output_type": "stream",
          "name": "stdout",
          "text": [
            "{'a': 1, 'b': 2, 'c': 3, 'm': 13}\n"
          ]
        }
      ]
    },
    {
      "cell_type": "code",
      "source": [
        "Set = {2, 4, 6, 8}"
      ],
      "metadata": {
        "id": "RWimgRALcJqu"
      },
      "execution_count": null,
      "outputs": []
    },
    {
      "cell_type": "code",
      "source": [
        "Set.add(10)"
      ],
      "metadata": {
        "id": "MXs_RvqIcS3O"
      },
      "execution_count": null,
      "outputs": []
    },
    {
      "cell_type": "code",
      "source": [
        "print(Set)"
      ],
      "metadata": {
        "colab": {
          "base_uri": "https://localhost:8080/"
        },
        "id": "8dmwk8nMcVV1",
        "outputId": "073a63ff-6095-429e-c13d-327442d86aaf"
      },
      "execution_count": null,
      "outputs": [
        {
          "output_type": "stream",
          "name": "stdout",
          "text": [
            "{2, 4, 6, 8, 10}\n"
          ]
        }
      ]
    },
    {
      "cell_type": "markdown",
      "source": [
        "##Immutable Data Types:\n",
        "Objects whose state or contents cannot be changed after creaton.\n",
        "1. cannot be changed; new objected created\n",
        "2. New object ID for changes\n",
        "3. Safer for concurrency, but copying can be slower.\n",
        "\n",
        "**e.g String, Tuple, integer, Frozen Set**"
      ],
      "metadata": {
        "id": "ZIYVki29cm2b"
      }
    },
    {
      "cell_type": "code",
      "source": [
        "# string Data type\n",
        "s1=\"hello world\""
      ],
      "metadata": {
        "id": "g-28zc-EcZl9"
      },
      "execution_count": null,
      "outputs": []
    },
    {
      "cell_type": "code",
      "source": [
        "s1(0)==H # string object does not support item assignment"
      ],
      "metadata": {
        "colab": {
          "base_uri": "https://localhost:8080/",
          "height": 148
        },
        "id": "Xn5ZmhOMenXj",
        "outputId": "ddfcac2a-1595-4886-f03f-62d0ad0d026c"
      },
      "execution_count": null,
      "outputs": [
        {
          "output_type": "error",
          "ename": "TypeError",
          "evalue": "'str' object is not callable",
          "traceback": [
            "\u001b[0;31m---------------------------------------------------------------------------\u001b[0m",
            "\u001b[0;31mTypeError\u001b[0m                                 Traceback (most recent call last)",
            "\u001b[0;32m<ipython-input-13-52b38a8c97a8>\u001b[0m in \u001b[0;36m<cell line: 0>\u001b[0;34m()\u001b[0m\n\u001b[0;32m----> 1\u001b[0;31m \u001b[0ms1\u001b[0m\u001b[0;34m(\u001b[0m\u001b[0;36m0\u001b[0m\u001b[0;34m)\u001b[0m\u001b[0;34m==\u001b[0m\u001b[0mH\u001b[0m\u001b[0;34m\u001b[0m\u001b[0;34m\u001b[0m\u001b[0m\n\u001b[0m",
            "\u001b[0;31mTypeError\u001b[0m: 'str' object is not callable"
          ]
        }
      ]
    },
    {
      "cell_type": "code",
      "source": [
        "# tuple data type\n",
        "t = (1, 6, \"soumik\", 5,9.6)"
      ],
      "metadata": {
        "id": "CgMCw5TNesE4"
      },
      "execution_count": null,
      "outputs": []
    },
    {
      "cell_type": "code",
      "source": [
        "t[1]=10"
      ],
      "metadata": {
        "colab": {
          "base_uri": "https://localhost:8080/",
          "height": 148
        },
        "id": "9Q5rEVC5fPVL",
        "outputId": "9c8e0e4f-4519-4240-ddd2-81cb10600421"
      },
      "execution_count": null,
      "outputs": [
        {
          "output_type": "error",
          "ename": "TypeError",
          "evalue": "'tuple' object does not support item assignment",
          "traceback": [
            "\u001b[0;31m---------------------------------------------------------------------------\u001b[0m",
            "\u001b[0;31mTypeError\u001b[0m                                 Traceback (most recent call last)",
            "\u001b[0;32m<ipython-input-16-8baebb1fb83f>\u001b[0m in \u001b[0;36m<cell line: 0>\u001b[0;34m()\u001b[0m\n\u001b[0;32m----> 1\u001b[0;31m \u001b[0mt\u001b[0m\u001b[0;34m[\u001b[0m\u001b[0;36m1\u001b[0m\u001b[0;34m]\u001b[0m\u001b[0;34m=\u001b[0m\u001b[0;36m10\u001b[0m\u001b[0;34m\u001b[0m\u001b[0;34m\u001b[0m\u001b[0m\n\u001b[0m",
            "\u001b[0;31mTypeError\u001b[0m: 'tuple' object does not support item assignment"
          ]
        }
      ]
    },
    {
      "cell_type": "markdown",
      "source": [
        "##3. What are the main differences between lists and tuples in Python?\n",
        "--**>LIST:**\n",
        "\n",
        "   1.Mutable: Can be modified (e.g., append, remove).\n",
        "\n",
        "   2.Defined with square brackets: [1, 2, 3]\n",
        "\n",
        "   3.Slower due to mutability overhead.\n",
        "\n",
        "   4.Uses more memory (dynamic resizing)\n",
        "\n",
        "   5.Many methods (e.g., append(), pop(), sort()).\n",
        "\n",
        "   6.Dynamic data that needs modification (e.g., growing lists).\n",
        "\n",
        "   7.Not hashable (cannot be dictionary keys)."
      ],
      "metadata": {
        "id": "R3SH2UWFgnih"
      }
    },
    {
      "cell_type": "code",
      "source": [
        "my_list=[1, 2, 4, 6]\n",
        "my_list.append(8)"
      ],
      "metadata": {
        "id": "6wPYVO4tfYpD"
      },
      "execution_count": null,
      "outputs": []
    },
    {
      "cell_type": "code",
      "source": [
        "my_list"
      ],
      "metadata": {
        "colab": {
          "base_uri": "https://localhost:8080/"
        },
        "id": "50VdVbzEiO0M",
        "outputId": "e69dfb6a-d7a3-4070-ef2c-83e7cd0524d7"
      },
      "execution_count": null,
      "outputs": [
        {
          "output_type": "execute_result",
          "data": {
            "text/plain": [
              "[1, 2, 4, 6, 8]"
            ]
          },
          "metadata": {},
          "execution_count": 18
        }
      ]
    },
    {
      "cell_type": "markdown",
      "source": [
        "**Tuple:**\n",
        "\n",
        "1.\tImmutable: Cannot be changed after creation.\n",
        "2. Defined with parentheses: (1, 2, 3)\n",
        "3. Faster due to immutability (fixed size).\n",
        "4.Uses less memory (fixed structure).\n",
        "5.Few methods (e.g., count(), index()).\n",
        "6. Fixed data, like constants or dictionary keys.\n",
        "7.Hashable (can be dictionary keys if elements are hashable)."
      ],
      "metadata": {
        "id": "8JIaTKDdiqiA"
      }
    },
    {
      "cell_type": "code",
      "source": [
        "t1=(1,4,9,12)\n",
        "t1+(7,) # a new tuple will be formed."
      ],
      "metadata": {
        "colab": {
          "base_uri": "https://localhost:8080/"
        },
        "id": "IRyzJgfliRdm",
        "outputId": "3e1d7bc2-b65e-4352-ca19-45e1edf0db3d"
      },
      "execution_count": null,
      "outputs": [
        {
          "output_type": "execute_result",
          "data": {
            "text/plain": [
              "(1, 4, 9, 12, 7)"
            ]
          },
          "metadata": {},
          "execution_count": 19
        }
      ]
    },
    {
      "cell_type": "markdown",
      "source": [
        "##4.Describe how dictionaries store data\n",
        "-->In Python, dictionaries store data as **key-value pairs**, providing an efficient way to** map unique keys **to associated values. They are implemented using a hash table under the hood, which ensures fast lookups, insertions, and deletions.\n",
        "\n",
        "A dictionary is a collection of key-value pairs, e.g., {\"name\": \"Alice\", \"age\": 25}.\n",
        "\n",
        "Keys must be immutable (e.g., strings, numbers, tuples) and unique.\n",
        "Values can be any data type (mutable or immutable) and need not be unique."
      ],
      "metadata": {
        "id": "HKBjsqWlj5_q"
      }
    },
    {
      "cell_type": "code",
      "source": [
        "my_dict = {\"name\": \"Soumik\", \"age\": 26}\n",
        "my_dict[\"city\"] = \"Burdwan\"\n",
        "print(my_dict[\"name\"])\n",
        "del my_dict[\"age\"]\n",
        "print(my_dict)"
      ],
      "metadata": {
        "colab": {
          "base_uri": "https://localhost:8080/"
        },
        "id": "9XLM0DwNjlVh",
        "outputId": "c8b38046-9784-4e1a-87e7-25dd23ed9d6b"
      },
      "execution_count": null,
      "outputs": [
        {
          "output_type": "stream",
          "name": "stdout",
          "text": [
            "Soumik\n",
            "{'name': 'Soumik', 'city': 'Burdwan'}\n"
          ]
        }
      ]
    },
    {
      "cell_type": "markdown",
      "source": [
        "\n",
        "##5.Why might you use a set instead of a list in Python?\n",
        "We might use a **set** instead of a **list** in Python for the following reasons:\n",
        "\n",
        "1. **Uniqueness**: Sets automatically ensure all elements are unique (no duplicates), while lists allow duplicates.\n",
        "   - **Example**: `my_set = {1, 2, 2}` → `{1, 2}`; `my_list = [1, 2, 2]` → `[1, 2, 2]`.\n",
        "\n",
        "2. **Faster Membership Testing**: Sets use a hash table, making `in` operations O(1) on average, compared to O(n) for lists.\n",
        "   - **Example**: `3 in my_set` is faster than `3 in my_list` for large datasets.\n",
        "\n",
        "3. **Set Operations**: Sets support efficient mathematical operations like union, intersection, and difference, which are cumbersome with lists.\n",
        "   - **Example**: `set1 = {1, 2, 3}; set2 = {2, 4}; set1 & set2` → `{2}` (intersection).\n",
        "\n",
        "4. **Memory Efficiency**: Sets can be more memory-efficient for unique elements, as they store only one copy of each item.\n",
        "\n",
        "5. **Use Case Fit**: Sets are ideal for tasks like removing duplicates, checking membership, or performing set algebra (e.g., finding common items).\n",
        "   - **Example**: Deduplicating a list: `unique = set([1, 2, 2, 3])` → `{1, 2, 3}`.\n",
        "\n",
        "**When to Use a List Instead**:\n",
        "- If you need ordered data, duplicates, or indexing (e.g., `my_list[0]`), use a list, as sets are unordered and don’t support indexing.\n",
        "\n"
      ],
      "metadata": {
        "id": "8amGMejclSe6"
      }
    },
    {
      "cell_type": "markdown",
      "source": [
        "##6.What is a string in Python, and how is it different from a list\n",
        "-->A string in Python is an immutable, ordered sequence of characters used to represent text. It is defined using single quotes ('hello'), double quotes (\"hello\"), or triple quotes ('''hello''' for multiline).\n",
        "\n",
        "Key Traits:\n",
        "\n",
        "**Immutable**: Cannot be modified in-place (e.g., s[0] = 'x' raises an error).\n",
        "Ordered: Characters have specific positions (accessible via indexing, e.g., s[0]).\n",
        "\n",
        "**Unicode Support:** Can store any character, including emojis or non-Latin scripts.\n",
        "Example: s = \"hello\"; print(s[1]) → 'e'.\n"
      ],
      "metadata": {
        "id": "WOW3lUZImCCZ"
      }
    },
    {
      "cell_type": "code",
      "source": [
        "s = \"hello\"        # String\n",
        "lst = [1, 2, 3]   # List\n"
      ],
      "metadata": {
        "id": "v-Izr7pEkz5P"
      },
      "execution_count": null,
      "outputs": []
    },
    {
      "cell_type": "code",
      "source": [
        "s[0]"
      ],
      "metadata": {
        "colab": {
          "base_uri": "https://localhost:8080/",
          "height": 36
        },
        "id": "dqzfot2tm1Pg",
        "outputId": "2d845af3-e44d-43dd-8f7e-1af1d0d89b27"
      },
      "execution_count": null,
      "outputs": [
        {
          "output_type": "execute_result",
          "data": {
            "text/plain": [
              "'h'"
            ],
            "application/vnd.google.colaboratory.intrinsic+json": {
              "type": "string"
            }
          },
          "metadata": {},
          "execution_count": 23
        }
      ]
    },
    {
      "cell_type": "code",
      "source": [
        "lst[0]=9"
      ],
      "metadata": {
        "id": "V0gzRL5im78u"
      },
      "execution_count": null,
      "outputs": []
    },
    {
      "cell_type": "code",
      "source": [
        "lst # mutable"
      ],
      "metadata": {
        "colab": {
          "base_uri": "https://localhost:8080/"
        },
        "id": "nEoDWYRenBi1",
        "outputId": "887d0adc-10bf-4e5d-bfa0-1274c77199ff"
      },
      "execution_count": null,
      "outputs": [
        {
          "output_type": "execute_result",
          "data": {
            "text/plain": [
              "[9, 2, 3, 5]"
            ]
          },
          "metadata": {},
          "execution_count": 25
        }
      ]
    },
    {
      "cell_type": "code",
      "source": [
        "s + \"!\" # new string , immutable"
      ],
      "metadata": {
        "colab": {
          "base_uri": "https://localhost:8080/",
          "height": 36
        },
        "id": "vixUGpGInDa8",
        "outputId": "077eb031-a2aa-443b-82e4-6497d116451a"
      },
      "execution_count": null,
      "outputs": [
        {
          "output_type": "execute_result",
          "data": {
            "text/plain": [
              "'hello!'"
            ],
            "application/vnd.google.colaboratory.intrinsic+json": {
              "type": "string"
            }
          },
          "metadata": {},
          "execution_count": 26
        }
      ]
    },
    {
      "cell_type": "code",
      "source": [
        "lst.append(6) # mutable"
      ],
      "metadata": {
        "id": "KaOicCIanQkO"
      },
      "execution_count": null,
      "outputs": []
    },
    {
      "cell_type": "code",
      "source": [
        "lst"
      ],
      "metadata": {
        "colab": {
          "base_uri": "https://localhost:8080/"
        },
        "id": "VJBrs_kPnbLH",
        "outputId": "9f0e87a1-ccd3-4502-92b6-17608dfee2aa"
      },
      "execution_count": null,
      "outputs": [
        {
          "output_type": "execute_result",
          "data": {
            "text/plain": [
              "[9, 2, 3, 5, 6]"
            ]
          },
          "metadata": {},
          "execution_count": 28
        }
      ]
    },
    {
      "cell_type": "code",
      "source": [],
      "metadata": {
        "id": "uNRzBE2_ncR7"
      },
      "execution_count": null,
      "outputs": []
    },
    {
      "cell_type": "markdown",
      "source": [
        "##7.How do tuples ensure data integrity in Python?\n",
        "--> Tuples in Python ensure **data integrity** due to their **immutable** nature and related properties, which prevent unintended modifications and maintain consistency. Here's how:\n",
        "\n",
        "1. **Immutability**:\n",
        "   - Once created, a tuple's elements cannot be changed (no additions, deletions, or modifications).\n",
        "   - **Example**: `t = (1, 2, 3); t[0] = 4` raises a `TypeError`.\n",
        "   - **Benefit**: Guarantees the data remains constant, preventing accidental or unauthorized changes.\n",
        "\n",
        "2. **Hashability**:\n",
        "   - Tuples are hashable (if their elements are hashable), making them suitable as keys in dictionaries or elements in sets.\n",
        "   - **Example**: `d = {(1, 2): \"value\"}` is valid; a list cannot be a key.\n",
        "   - **Benefit**: Ensures consistent, reliable use in hash-based structures, maintaining data integrity in mappings.\n",
        "\n",
        "3. **Thread Safety**:\n",
        "   - Immutability makes tuples safe for concurrent access in multithreaded programs, as no thread can modify the tuple.\n",
        "   - **Benefit**: Prevents race conditions without needing locks.\n",
        "\n",
        "4. **Fixed Structure**:\n",
        "   - Tuples enforce a fixed size and order, ensuring the structure of the data remains predictable.\n",
        "   - **Example**: A tuple `(x, y)` for coordinates won't unexpectedly change to `(x, y, z)`.\n",
        "   - **Benefit**: Reliable for representing structured, unchanging data like records or return values.\n",
        "\n",
        "5. **Use in Return Values and Packing/Unpacking**:\n",
        "   - Tuples are often used to return multiple values from functions (e.g., `return 1, 2`), ensuring the returned data isn't altered.\n",
        "   - **Example**: `x, y = (10, 20)` preserves the pair's integrity during unpacking.\n",
        "   - **Benefit**: Maintains data consistency in function outputs.\n",
        "\n",
        "\n",
        "```\n",
        "\n"
      ],
      "metadata": {
        "id": "Egq2MMvrnmT9"
      }
    },
    {
      "cell_type": "markdown",
      "source": [
        "##8.What is a hash table, and how does it relate to dictionaries in Python?\n",
        "-->A **hash table** is a data structure that stores **key-value pairs** using a hash function to map keys to indices for fast O(1) average-case lookups, insertions, and deletions.\n",
        "\n",
        "**Relation to Dictionaries**: In Python, **dictionaries** are implemented as hash tables. Keys are hashed to determine storage locations, enabling efficient key-based access (e.g., `d[\"key\"]`). Collisions are resolved via open addressing, ensuring quick operations.\n",
        "\n",
        "**Example**: `d = {\"name\": \"Alice\"}` uses a hash table to store `\"name\"` (key) and `\"Alice\"` (value)."
      ],
      "metadata": {
        "id": "rNuUUQWBoxK5"
      }
    },
    {
      "cell_type": "markdown",
      "source": [
        "##9.Can lists contain different data types in Python.\n",
        "--> Yes, lists in Python can contain different data types. They are heterogeneous, meaning elements can be of any type (integers, strings, floats, other lists, objects, etc.), and elements do not need to be of the same type.\n"
      ],
      "metadata": {
        "id": "FwjgAVCqpX54"
      }
    },
    {
      "cell_type": "code",
      "source": [
        "my_list = [1, \"hello\", 3.14, [2, 3], {\"key\": \"value\"}]\n",
        "print(my_list)  # [1, 'hello', 3.14, [2, 3], {'key': 'value'}]"
      ],
      "metadata": {
        "colab": {
          "base_uri": "https://localhost:8080/"
        },
        "id": "d71Q2Olfpw-B",
        "outputId": "06fb8c66-f7e5-4ccf-c138-d312d1509f69"
      },
      "execution_count": null,
      "outputs": [
        {
          "output_type": "stream",
          "name": "stdout",
          "text": [
            "[1, 'hello', 3.14, [2, 3], {'key': 'value'}]\n"
          ]
        }
      ]
    },
    {
      "cell_type": "markdown",
      "source": [
        "##10.Explain why strings are immutable in Python.\n",
        "-->\n",
        "Strings in Python are immutable because their contents cannot be changed after creation. This design choice is driven by several key reasons:\n",
        "\n",
        "**Hashability**:\n",
        "\n",
        "Immutable objects can be hashed consistently, making strings suitable as keys in dictionaries or elements in sets.\n",
        "Example: d = {\"key\": \"value\"} relies on \"key\" having a fixed hash value.\n",
        "If strings were mutable, their hash could change, breaking hash-based structures.\n",
        "\n",
        "**Memory Efficiency:**\n",
        "\n",
        "Immutability allows Python to intern strings (reuse identical strings in memory), reducing memory usage.\n",
        "Example: s1 = \"hello\"; s2 = \"hello\" often points to the same memory location.\n",
        "\n",
        "**Thread Safety:**\n",
        "\n",
        "Immutable strings are inherently safe in multithreaded environments, as no thread can modify them, preventing race conditions.\n",
        "Example: Multiple threads can read \"hello\" without synchronization.\n",
        "\n",
        "**Data Integrity:**\n",
        "Immutability ensures strings remain consistent, preventing unintended modifications in critical contexts like configuration data or function arguments.\n",
        "Example:\n",
        "\n",
        " Passing \"config\" to a function guarantees it won’t be altered.\n",
        "\n",
        "\n",
        "**Performance Optimization**:\n",
        "Immutability simplifies internal optimizations, like caching string operations or reusing string objects, as Python knows the string won’t change.\n",
        "Example:\n",
        "\n",
        " String slicing (e.g., \"hello\"[1:3]) creates a new string efficiently.\n",
        "How It Works:\n",
        "\n",
        "Any operation that seems to modify a string (e.g., s = \"hello\"; s += \" world\") creates a new string (\"hello world\") rather than altering the original.\n"
      ],
      "metadata": {
        "id": "timJgD_Yp89W"
      }
    },
    {
      "cell_type": "markdown",
      "source": [
        "##11.What advantages do dictionaries offer over lists for certain tasks?\n",
        "-->Dictionaries offer advantages over lists for certain tasks due to their **key-value** structure and **hash table** implementation:\n",
        "\n",
        "1. **Fast Lookups**: O(1) key access vs. O(n) list search (e.g., `d[\"key\"]` vs. `lst.index(\"key\")`).\n",
        "2. **Key-Based Access**: Meaningful keys vs. numeric indices (e.g., `d[\"name\"]` vs. `lst[0]`).\n",
        "3. **Unique Keys**: No duplicates (e.g., `d = {\"a\": 2}` vs. `lst = [1, 1]`).\n",
        "4. **Flexible Mapping**: Ideal for structured data (e.g., `{\"name\": \"Alice\"}` vs. `[\"Alice\", 25]`).\n",
        "5. **Efficient Updates/Deletions**: O(1) add/remove vs. O(n) for lists (e.g., `d[\"key\"] = 1` vs. `lst.append(1)`).\n",
        "\n",
        "**Best for**: Lookups, frequency counting, or structured data. Lists suit ordered sequences or duplicates."
      ],
      "metadata": {
        "id": "p2CIj3p_urMH"
      }
    },
    {
      "cell_type": "markdown",
      "source": [
        "##12.What advantages do dictionaries offer over lists for certain task?\n",
        "--> Sure! Here's a slightly more detailed explanation:\n",
        "\n",
        "**1. Fast Lookups:**  \n",
        "Dictionaries allow you to access values using keys instantly (on average, in constant time **O(1)**), while lists require a linear search **O(n)** if you're looking for a specific value.\n",
        "\n",
        "**Example:**  \n",
        "```python\n",
        "# Dictionary\n",
        "student_marks = {'Alice': 85, 'Bob': 90}\n",
        "print(student_marks['Bob'])  # Fast access by key\n",
        "\n",
        "# List\n",
        "student_list = [('Alice', 85), ('Bob', 90)]\n",
        "# To find Bob's marks, you have to search the list\n",
        "```\n",
        "\n",
        "**2. Key-Value Pair Structure:**  \n",
        "Dictionaries store data as key-value pairs, making the relationship between items clearer and more meaningful than index-based access in lists.\n",
        "\n",
        "**3. Better for Mapping and Grouping:**  \n",
        "If you're mapping one piece of data to another (like names to scores, or IDs to details), dictionaries are the ideal choice.\n",
        "\n",
        "**4. Avoids Duplicate Keys:**  \n",
        "Dictionaries automatically handle unique keys, so they’re useful when you want to prevent duplicates.\n",
        "\n",
        "In summary, dictionaries are better when:\n",
        "- You need to associate labels (keys) with values.\n",
        "- You want fast retrieval based on custom identifiers.\n",
        "- You’re organizing data logically (like records or settings)."
      ],
      "metadata": {
        "id": "q7aUWxmyvZ2-"
      }
    },
    {
      "cell_type": "markdown",
      "source": [
        "#13.How do sets handle duplicate values in Python?\n",
        "-->> In Python, **sets automatically remove duplicate values**. When you add elements to a set, only unique items are kept—duplicates are discarded.\n",
        "\n",
        "**Example:**\n",
        "```python\n",
        "numbers = {1, 2, 2, 3, 4, 4, 5}\n",
        "print(numbers)  # Output: {1, 2, 3, 4, 5}\n",
        "```\n",
        "\n",
        "Even if you try to add duplicates later:\n",
        "```python\n",
        "numbers.add(3)\n",
        "print(numbers)  # Still: {1, 2, 3, 4, 5}\n",
        "```\n",
        "\n",
        "### Why?  \n",
        "Sets are **unordered collections of unique elements**. This property makes them great for:\n",
        "- Removing duplicates from a list.\n",
        "- Performing mathematical operations like union, intersection, etc.\n",
        "\n",
        "In short: **sets ignore duplicates and keep only unique values.**"
      ],
      "metadata": {
        "id": "j-NMyLVlwPhc"
      }
    },
    {
      "cell_type": "markdown",
      "source": [
        "#14.How does the “in” keyword work differently for lists and dictionaries?\n",
        "-->>  The in keyword behaves differently for lists and dictionaries in Python:\n",
        "\n",
        "** For Lists:**\n",
        "\n",
        "in checks if a value exists in the list."
      ],
      "metadata": {
        "id": "yNz11QTLwsfI"
      }
    },
    {
      "cell_type": "code",
      "source": [
        "fruits = ['apple', 'banana', 'cherry']\n",
        "print('banana' in fruits)\n"
      ],
      "metadata": {
        "colab": {
          "base_uri": "https://localhost:8080/"
        },
        "id": "eDK7xbf7xP0j",
        "outputId": "ebc6f6cd-264c-46f1-aa48-b61b22cdce95"
      },
      "execution_count": null,
      "outputs": [
        {
          "output_type": "stream",
          "name": "stdout",
          "text": [
            "True\n"
          ]
        }
      ]
    },
    {
      "cell_type": "markdown",
      "source": [
        "** For Dictionaries:**\n",
        "\n",
        "in checks if a key exists in the dictionary (not the value)."
      ],
      "metadata": {
        "id": "HAsl1EMAxvoI"
      }
    },
    {
      "cell_type": "code",
      "source": [
        "student = {'name': 'Alice', 'age': 14}\n",
        "print('name' in student)\n",
        "print('Alice' in student)\n"
      ],
      "metadata": {
        "colab": {
          "base_uri": "https://localhost:8080/"
        },
        "id": "KHkUoN85xUJE",
        "outputId": "2d8a4c5d-1d7f-459a-905d-42246b7c448d"
      },
      "execution_count": null,
      "outputs": [
        {
          "output_type": "stream",
          "name": "stdout",
          "text": [
            "True\n",
            "False\n"
          ]
        }
      ]
    },
    {
      "cell_type": "markdown",
      "source": [
        "##15.Can you modify the elements of a tuple? Explain why or why not?\n",
        "-->> No, we cannot modify the elements of a tuple in Python. Tuples are immutable, meaning once they are created, their contents cannot be changed.\n",
        "Design choice: Tuples are meant to be fixed collections—like records—that should not change.\n",
        "\n",
        "This makes them hashable, so they can be used as keys in dictionaries or elements in sets (if they only contain immutable elements)."
      ],
      "metadata": {
        "id": "b72Q6QEY56Yb"
      }
    },
    {
      "cell_type": "code",
      "source": [
        "t = (1, 2, 3)\n",
        "t[0] = 10\n"
      ],
      "metadata": {
        "colab": {
          "base_uri": "https://localhost:8080/",
          "height": 166
        },
        "id": "5ahFyrlMywlD",
        "outputId": "5a2f4a88-ee8a-4432-ee22-e31ebfca87a9"
      },
      "execution_count": null,
      "outputs": [
        {
          "output_type": "error",
          "ename": "TypeError",
          "evalue": "'tuple' object does not support item assignment",
          "traceback": [
            "\u001b[0;31m---------------------------------------------------------------------------\u001b[0m",
            "\u001b[0;31mTypeError\u001b[0m                                 Traceback (most recent call last)",
            "\u001b[0;32m<ipython-input-35-28745da4ecf5>\u001b[0m in \u001b[0;36m<cell line: 0>\u001b[0;34m()\u001b[0m\n\u001b[1;32m      1\u001b[0m \u001b[0mt\u001b[0m \u001b[0;34m=\u001b[0m \u001b[0;34m(\u001b[0m\u001b[0;36m1\u001b[0m\u001b[0;34m,\u001b[0m \u001b[0;36m2\u001b[0m\u001b[0;34m,\u001b[0m \u001b[0;36m3\u001b[0m\u001b[0;34m)\u001b[0m\u001b[0;34m\u001b[0m\u001b[0;34m\u001b[0m\u001b[0m\n\u001b[0;32m----> 2\u001b[0;31m \u001b[0mt\u001b[0m\u001b[0;34m[\u001b[0m\u001b[0;36m0\u001b[0m\u001b[0;34m]\u001b[0m \u001b[0;34m=\u001b[0m \u001b[0;36m10\u001b[0m\u001b[0;34m\u001b[0m\u001b[0;34m\u001b[0m\u001b[0m\n\u001b[0m",
            "\u001b[0;31mTypeError\u001b[0m: 'tuple' object does not support item assignment"
          ]
        }
      ]
    },
    {
      "cell_type": "markdown",
      "source": [
        " However:\n",
        "If a tuple contains mutable elements (like a list), those inner elements can be modified."
      ],
      "metadata": {
        "id": "NwTgUjj76rxE"
      }
    },
    {
      "cell_type": "code",
      "source": [
        "\n",
        "t = (1, [2, 3], 4)\n",
        "t[1][0] = 99\n",
        "print(t)\n",
        "\n"
      ],
      "metadata": {
        "colab": {
          "base_uri": "https://localhost:8080/"
        },
        "id": "fGfTbQI36mMx",
        "outputId": "de591867-92d6-4b84-f2ae-2f59705f35ab"
      },
      "execution_count": null,
      "outputs": [
        {
          "output_type": "stream",
          "name": "stdout",
          "text": [
            "(1, [99, 3], 4)\n"
          ]
        }
      ]
    },
    {
      "cell_type": "markdown",
      "source": [
        "So, the tuple itself is immutable, but if it holds mutable items, those items can still be changed."
      ],
      "metadata": {
        "id": "Z-U7308M7Gd8"
      }
    },
    {
      "cell_type": "markdown",
      "source": [
        "##16.What is a nested dictionary, and give an example of its use case.\n",
        "-->>A nested dictionary is a dictionary inside another dictionary. It's used to store complex or structured data in a hierarchical way.\n",
        "\n"
      ],
      "metadata": {
        "id": "lXWCpEVc7cuc"
      }
    },
    {
      "cell_type": "code",
      "source": [
        "students = {\n",
        "    '101': {'name': 'Alice', 'marks': 85},\n",
        "    '102': {'name': 'Bob', 'marks': 90},\n",
        "}\n",
        "print(students['101']['name'])\n"
      ],
      "metadata": {
        "colab": {
          "base_uri": "https://localhost:8080/"
        },
        "id": "BdfqyRyU7cSL",
        "outputId": "c5a460ba-347e-4ddb-dfb4-032d153d1642"
      },
      "execution_count": null,
      "outputs": [
        {
          "output_type": "stream",
          "name": "stdout",
          "text": [
            "Alice\n"
          ]
        }
      ]
    },
    {
      "cell_type": "markdown",
      "source": [
        "Example Scenarios:\n",
        "\n",
        "Storing student info by ID\n",
        "\n",
        "Organizing product data in an inventory\n",
        "\n",
        "User profiles in an app"
      ],
      "metadata": {
        "id": "jGIgkMLa8C_b"
      }
    },
    {
      "cell_type": "markdown",
      "source": [
        "##17.Describe the time complexity of accessing elements in a dictionary.\n",
        "-->> Accessing elements in a dictionary in Python has an average-case **time complexity of O(1)** — meaning it's **very fast and constant time**, regardless of the dictionary size.\n",
        "\n",
        "---\n",
        "\n",
        "### 🔹 Why O(1)?\n",
        "Python dictionaries use a **hash table** under the hood:\n",
        "- Each key is hashed.\n",
        "- The hash determines where the value is stored.\n",
        "- Lookup by key is done directly via the hash — no need to search.\n",
        "\n",
        "---\n",
        "\n",
        "### 🔸 Worst-case: O(n)\n",
        "In rare cases (like hash collisions or poorly distributed keys), lookup can degrade to **O(n)**. But Python is optimized to keep this rare.\n",
        "\n",
        "---\n",
        "\n",
        "\n",
        "Dictionaries are ideal when you need **quick data retrieval by keys**."
      ],
      "metadata": {
        "id": "YEM_p-OA8R7k"
      }
    },
    {
      "cell_type": "markdown",
      "source": [
        "##18.In what situations are lists preferred over dictionaries?\n",
        "-->> Lists are preferred over dictionaries when:\n",
        "\n",
        "---\n",
        "\n",
        "### 🔹 1. **Order Matters**\n",
        "- Lists preserve **insertion order** and allow **index-based access**.\n",
        "- Use when the **position** of elements is important.\n",
        "\n",
        "**Example:** A to-do list, steps in a recipe, ordered data.\n",
        "\n",
        "---\n",
        "\n",
        "### 🔹 2. **Data Has No Unique Identifier**\n",
        "- If your data doesn't have meaningful keys, a list is simpler.\n",
        "\n",
        "**Example:**  \n",
        "```python\n",
        "colors = ['red', 'green', 'blue']\n",
        "```\n",
        "\n",
        "\n",
        "###  3. ** Need to Iterate in Sequence**\n",
        "- Lists are great for **looping** through elements in a defined order.\n",
        "\n",
        "\n",
        "\n",
        "### 4.    **allow repeated values**, unlike dictionaries which enforce unique keys.\n",
        "\n",
        "\n",
        "\n",
        "### 5. **Memory Efficiency**\n",
        "- Lists use **less memory** than dictionaries when key-value pairs aren’t needed.\n",
        "\n"
      ],
      "metadata": {
        "id": "-ZCldSDf8yJw"
      }
    },
    {
      "cell_type": "markdown",
      "source": [
        "##19.Why are dictionaries considered unordered, and how does that affect data retrieval?\n",
        "-->>Dictionaries were traditionally considered **unordered** because they didn’t preserve the order in which items were added (before Python 3.7). However, starting with **Python 3.7**, dictionaries **do preserve insertion order** — but they're still conceptually treated as **unordered mappings**.\n",
        "\n",
        "\n",
        "\n",
        "### 🔹 Why \"Unordered\" Conceptually?\n",
        "- Dictionaries are designed for **fast key-based access**, not for ordered storage.\n",
        "- The position of elements doesn't affect how data is retrieved.\n",
        "- Internally, items are stored based on **hash values**, not sequence.\n",
        "\n",
        "\n",
        "\n",
        "###  How This Affects Data Retrieval:\n",
        "- You **can't access items by position/index** like in a list.\n",
        "  ```python\n",
        "  my_dict = {'a': 1, 'b': 2}\n",
        "  print(my_dict[0]) key error\n",
        "  ```\n",
        "- You access data **by key**, not by order.\n",
        "\n",
        "\n",
        "\n",
        "###  Summary:\n",
        "Dictionaries are **unordered** in logic because:\n",
        "- They focus on **key-based retrieval**, not order.\n",
        "- The data's **physical order doesn’t matter** for how you retrieve values.\n",
        "\n",
        "Even though modern Python keeps the order, you should still use dictionaries when **you care about keys, not positions**."
      ],
      "metadata": {
        "id": "tnh3jdMe-Anu"
      }
    },
    {
      "cell_type": "markdown",
      "source": [
        "##20.Explain the difference between a list and a dictionary in terms of data retrieval.\n",
        "-->> List: Index-Based Retrieval\n",
        "You access elements by their position (index).\n",
        "\n",
        "Retrieval is done using an integer index (e.g., list[0]).\n",
        "\n",
        "Time complexity: O(1) for direct index access, O(n) for searching values.\n"
      ],
      "metadata": {
        "id": "uVdiJIHT-sTn"
      }
    },
    {
      "cell_type": "code",
      "source": [
        "fruits = ['apple', 'banana', 'cherry']\n",
        "print(fruits[1])\n"
      ],
      "metadata": {
        "colab": {
          "base_uri": "https://localhost:8080/"
        },
        "id": "24QLCC4K6-k4",
        "outputId": "91764f91-67b7-4c6b-b64e-19459177e54c"
      },
      "execution_count": null,
      "outputs": [
        {
          "output_type": "stream",
          "name": "stdout",
          "text": [
            "banana\n"
          ]
        }
      ]
    },
    {
      "cell_type": "markdown",
      "source": [
        "Dictionary: Key-Based Retrieval\n",
        "You access elements by their unique key (not position).\n",
        "\n",
        "Retrieval is done using the key (e.g., dict['name']).\n",
        "\n",
        "Time complexity: O(1) on average due to hashing."
      ],
      "metadata": {
        "id": "Yb2ipMdU_KgE"
      }
    },
    {
      "cell_type": "code",
      "source": [
        "student = {'name': 'Ali', 'age': 14}\n",
        "print(student['name'])\n"
      ],
      "metadata": {
        "colab": {
          "base_uri": "https://localhost:8080/"
        },
        "id": "vYfidZoU_CHj",
        "outputId": "43005969-710c-44e8-90a3-6e1a9767542c"
      },
      "execution_count": null,
      "outputs": [
        {
          "output_type": "stream",
          "name": "stdout",
          "text": [
            "Ali\n"
          ]
        }
      ]
    },
    {
      "cell_type": "markdown",
      "source": [
        "Use lists when order matters and you access by position.\n",
        "\n",
        "Use dictionaries when you need quick lookups using custom labels (keys)"
      ],
      "metadata": {
        "id": "mOByCCez_mcP"
      }
    },
    {
      "cell_type": "markdown",
      "source": [
        "###Practical Questions\n"
      ],
      "metadata": {
        "id": "zTH8W2p8hCKA"
      }
    },
    {
      "cell_type": "markdown",
      "source": [
        "1.Write a code to create a string with your name and print it"
      ],
      "metadata": {
        "id": "tnsQppqhhj7t"
      }
    },
    {
      "cell_type": "code",
      "source": [
        "My_Name =\"soumik Dey\""
      ],
      "metadata": {
        "id": "GWZbU041_hfD"
      },
      "execution_count": null,
      "outputs": []
    },
    {
      "cell_type": "code",
      "source": [
        "print(My_Name)"
      ],
      "metadata": {
        "id": "pnVwSYbA_ZWZ",
        "colab": {
          "base_uri": "https://localhost:8080/"
        },
        "outputId": "73256060-acfd-4001-8832-d6e9fe7e56dc"
      },
      "execution_count": null,
      "outputs": [
        {
          "output_type": "stream",
          "name": "stdout",
          "text": [
            "soumik Dey\n"
          ]
        }
      ]
    },
    {
      "cell_type": "markdown",
      "source": [
        "2.Write a code to find the length of the string \"Hello World"
      ],
      "metadata": {
        "id": "DT-_8jUth3Y-"
      }
    },
    {
      "cell_type": "code",
      "source": [
        "S1=\"Hello World\""
      ],
      "metadata": {
        "id": "CmajyFxBh2sQ"
      },
      "execution_count": null,
      "outputs": []
    },
    {
      "cell_type": "code",
      "source": [
        "len(S1)"
      ],
      "metadata": {
        "colab": {
          "base_uri": "https://localhost:8080/"
        },
        "id": "cuBEkpU3h083",
        "outputId": "4149c258-031e-477e-f3df-7b8ade743e45"
      },
      "execution_count": null,
      "outputs": [
        {
          "output_type": "execute_result",
          "data": {
            "text/plain": [
              "11"
            ]
          },
          "metadata": {},
          "execution_count": 4
        }
      ]
    },
    {
      "cell_type": "markdown",
      "source": [
        "##3.Write a code to slice the first 3 characters from the string \"Python Programming\"."
      ],
      "metadata": {
        "id": "wrxJRFhMibjN"
      }
    },
    {
      "cell_type": "code",
      "source": [
        "string =\"python programming\"\n",
        "sliced =string[:3]"
      ],
      "metadata": {
        "id": "2O-e6cNciTpg"
      },
      "execution_count": 1,
      "outputs": []
    },
    {
      "cell_type": "code",
      "source": [
        "print(\"First 3 characters:\", sliced)"
      ],
      "metadata": {
        "colab": {
          "base_uri": "https://localhost:8080/"
        },
        "id": "e5AJzlvh_010",
        "outputId": "5267fb79-9278-498c-b3ef-3d5b666626f5"
      },
      "execution_count": 3,
      "outputs": [
        {
          "output_type": "stream",
          "name": "stdout",
          "text": [
            "First 3 characters: pyt\n"
          ]
        }
      ]
    },
    {
      "cell_type": "markdown",
      "source": [
        "###4.Write a code to convert the string \"hello\" to uppercase."
      ],
      "metadata": {
        "id": "hJM0m3CNAM-U"
      }
    },
    {
      "cell_type": "code",
      "source": [
        "A = \"hello\"\n",
        "Uppercase_Text = A.upper()\n",
        "print(\"Uppercase: \", Uppercase_Text)"
      ],
      "metadata": {
        "colab": {
          "base_uri": "https://localhost:8080/"
        },
        "id": "ewxTiIjAAjMP",
        "outputId": "854b99f8-0b44-4835-f112-d0feb29602df"
      },
      "execution_count": 5,
      "outputs": [
        {
          "output_type": "stream",
          "name": "stdout",
          "text": [
            "Uppercase:  HELLO\n"
          ]
        }
      ]
    },
    {
      "cell_type": "markdown",
      "source": [
        "###5.Write a code to replace the word \"apple\" with \"orange\" in the string \"I like apple.\n"
      ],
      "metadata": {
        "id": "b37K0GFZBHar"
      }
    },
    {
      "cell_type": "code",
      "source": [
        "Text = \"I like apple\"\n",
        "Replaced_Text= Text.replace(\"apple\", \"orange\")"
      ],
      "metadata": {
        "id": "t6ykaFChBF_x"
      },
      "execution_count": 8,
      "outputs": []
    },
    {
      "cell_type": "code",
      "source": [
        "print(\"Replaced Text: \", Replaced_Text)"
      ],
      "metadata": {
        "colab": {
          "base_uri": "https://localhost:8080/"
        },
        "id": "AgdWSbAMBg6S",
        "outputId": "eadf5f67-3652-4e57-8de4-013819b3e218"
      },
      "execution_count": 9,
      "outputs": [
        {
          "output_type": "stream",
          "name": "stdout",
          "text": [
            "Replaced Text:  I like orange\n"
          ]
        }
      ]
    },
    {
      "cell_type": "markdown",
      "source": [
        "###6.Write a code to create a list with numbers 1 to 5 and print it."
      ],
      "metadata": {
        "id": "APBSDhQgB6J8"
      }
    },
    {
      "cell_type": "code",
      "source": [
        "My_list = [1,2,3,4,5]"
      ],
      "metadata": {
        "id": "ABAyQzh8B3yf"
      },
      "execution_count": 10,
      "outputs": []
    },
    {
      "cell_type": "code",
      "source": [
        "print(My_list)"
      ],
      "metadata": {
        "colab": {
          "base_uri": "https://localhost:8080/"
        },
        "id": "NtYBS5UTCTYZ",
        "outputId": "506b5f11-f9dc-4085-a450-bbd6953e77f0"
      },
      "execution_count": 11,
      "outputs": [
        {
          "output_type": "stream",
          "name": "stdout",
          "text": [
            "[1, 2, 3, 4, 5]\n"
          ]
        }
      ]
    },
    {
      "cell_type": "markdown",
      "source": [
        "###7.Write a code to append the number 10 to the list [1, 2, 3, 4]"
      ],
      "metadata": {
        "id": "Kb5Z1ZpOCd7d"
      }
    },
    {
      "cell_type": "code",
      "source": [
        "Numbers = [1 ,2, 3, 4]\n",
        "Numbers.append(10)\n"
      ],
      "metadata": {
        "id": "nY-2S1tFCWZ6"
      },
      "execution_count": 19,
      "outputs": []
    },
    {
      "cell_type": "code",
      "source": [
        "print(\"new_list: \", Numbers)"
      ],
      "metadata": {
        "colab": {
          "base_uri": "https://localhost:8080/"
        },
        "id": "chDfVzUJC40_",
        "outputId": "a227dbb0-7523-4cf6-ba09-0b46b11255e7"
      },
      "execution_count": 20,
      "outputs": [
        {
          "output_type": "stream",
          "name": "stdout",
          "text": [
            "new_list:  [1, 2, 3, 4, 10]\n"
          ]
        }
      ]
    },
    {
      "cell_type": "markdown",
      "source": [
        "###8.Write a code to remove the number 3 from the list [1, 2, 3, 4, 5]"
      ],
      "metadata": {
        "id": "nHN7Yce6Dc0R"
      }
    },
    {
      "cell_type": "code",
      "source": [
        "A = [1 ,2 ,3, 4, 5]\n",
        "A.remove(3)"
      ],
      "metadata": {
        "id": "qT4o1rsJDi1O"
      },
      "execution_count": 21,
      "outputs": []
    },
    {
      "cell_type": "code",
      "source": [
        "print(\"B: \", A)"
      ],
      "metadata": {
        "colab": {
          "base_uri": "https://localhost:8080/"
        },
        "id": "PiA4NE8YDsvN",
        "outputId": "d7525622-4359-4b6e-94c4-0a58c93f7ab2"
      },
      "execution_count": 22,
      "outputs": [
        {
          "output_type": "stream",
          "name": "stdout",
          "text": [
            "B:  [1, 2, 4, 5]\n"
          ]
        }
      ]
    },
    {
      "cell_type": "markdown",
      "source": [
        "###9.Write a code to access the second element in the list ['a', 'b', 'c', 'd']"
      ],
      "metadata": {
        "id": "4xJAPDf9D19a"
      }
    },
    {
      "cell_type": "code",
      "source": [
        "L1 = ['a', 'b', 'c', 'd']"
      ],
      "metadata": {
        "id": "HWc15HwADyKU"
      },
      "execution_count": 23,
      "outputs": []
    },
    {
      "cell_type": "code",
      "source": [
        "print(\"second element in the list is: \",L1[1])"
      ],
      "metadata": {
        "colab": {
          "base_uri": "https://localhost:8080/"
        },
        "id": "7zh1uUEyEZvM",
        "outputId": "93b6701c-016e-40f9-9e8f-99ccf96e4109"
      },
      "execution_count": 27,
      "outputs": [
        {
          "output_type": "stream",
          "name": "stdout",
          "text": [
            "second element in the list is:  b\n"
          ]
        }
      ]
    },
    {
      "cell_type": "markdown",
      "source": [
        "###10.Write a code to reverse the list [10, 20, 30, 40, 50]."
      ],
      "metadata": {
        "id": "u0PmcPFuE8xW"
      }
    },
    {
      "cell_type": "code",
      "source": [
        "List = [10, 20, 30, 40, 50]"
      ],
      "metadata": {
        "id": "oNoHq271EpqT"
      },
      "execution_count": 28,
      "outputs": []
    },
    {
      "cell_type": "code",
      "source": [
        "List.reverse()\n",
        "print(\"Reversed_list: \", List)"
      ],
      "metadata": {
        "colab": {
          "base_uri": "https://localhost:8080/"
        },
        "id": "39O0_wvDFS7r",
        "outputId": "42f84284-a83b-4099-9026-0e7a129721ec"
      },
      "execution_count": 29,
      "outputs": [
        {
          "output_type": "stream",
          "name": "stdout",
          "text": [
            "Reversed_list:  [50, 40, 30, 20, 10]\n"
          ]
        }
      ]
    },
    {
      "cell_type": "markdown",
      "source": [
        "###11.Write a code to create a tuple with the elements 100, 200, 300 and print it."
      ],
      "metadata": {
        "id": "XU8oe0krFlIJ"
      }
    },
    {
      "cell_type": "code",
      "source": [
        "Tup = (100, 200 , 300)"
      ],
      "metadata": {
        "id": "LhKyTzdcFg4k"
      },
      "execution_count": 30,
      "outputs": []
    },
    {
      "cell_type": "code",
      "source": [
        "print(\"Tuple: \", Tup)"
      ],
      "metadata": {
        "colab": {
          "base_uri": "https://localhost:8080/"
        },
        "id": "vO9MVffxF62b",
        "outputId": "0d1295df-8e88-445e-96b5-5adfdb54aacf"
      },
      "execution_count": 31,
      "outputs": [
        {
          "output_type": "stream",
          "name": "stdout",
          "text": [
            "Tuple:  (100, 200, 300)\n"
          ]
        }
      ]
    },
    {
      "cell_type": "markdown",
      "source": [
        "###12. Write a code to access the second-to-last element of the tuple ('red', 'green', 'blue', 'yellow')."
      ],
      "metadata": {
        "id": "LsMPuc4WGHPc"
      }
    },
    {
      "cell_type": "code",
      "source": [
        "My_Bag = ('red', 'green', 'blue', 'yellow')"
      ],
      "metadata": {
        "id": "TLnqgisvGDMj"
      },
      "execution_count": 32,
      "outputs": []
    },
    {
      "cell_type": "code",
      "source": [
        "p = My_Bag[2]"
      ],
      "metadata": {
        "id": "0Jb_VwEYGkjU"
      },
      "execution_count": 35,
      "outputs": []
    },
    {
      "cell_type": "code",
      "source": [
        "print(\" second-to-last element of the tuple: \" ,p)"
      ],
      "metadata": {
        "colab": {
          "base_uri": "https://localhost:8080/"
        },
        "id": "vyFqzNvdGxsb",
        "outputId": "28fd3ce1-30ac-48e1-b8c9-9da3426f54a2"
      },
      "execution_count": 36,
      "outputs": [
        {
          "output_type": "stream",
          "name": "stdout",
          "text": [
            " second-to-last element of the tuple:  blue\n"
          ]
        }
      ]
    },
    {
      "cell_type": "markdown",
      "source": [
        "###13. Write a code to find the minimum number in the tuple (10, 20, 5, 15)."
      ],
      "metadata": {
        "id": "C8osJ8pCHDZg"
      }
    },
    {
      "cell_type": "code",
      "source": [
        "tups = (10, 20 , 5 , 15)"
      ],
      "metadata": {
        "id": "9Dm9g11DG_BU"
      },
      "execution_count": 37,
      "outputs": []
    },
    {
      "cell_type": "code",
      "source": [
        "print(\"Max_Number: \", max(tups))"
      ],
      "metadata": {
        "colab": {
          "base_uri": "https://localhost:8080/"
        },
        "id": "RXTCMV6AHXK7",
        "outputId": "ecda3435-115e-4b64-a32e-1c1217491b27"
      },
      "execution_count": 38,
      "outputs": [
        {
          "output_type": "stream",
          "name": "stdout",
          "text": [
            "Max_Number:  20\n"
          ]
        }
      ]
    },
    {
      "cell_type": "code",
      "source": [
        "print(\"Min_Number: \", min(tups))"
      ],
      "metadata": {
        "colab": {
          "base_uri": "https://localhost:8080/"
        },
        "id": "O7B4noSEHhjC",
        "outputId": "38bcc2cd-e222-4058-81b8-710dc7e10c9c"
      },
      "execution_count": 39,
      "outputs": [
        {
          "output_type": "stream",
          "name": "stdout",
          "text": [
            "Min_Number:  5\n"
          ]
        }
      ]
    },
    {
      "cell_type": "markdown",
      "source": [
        "###14.Write a code to find the index of the element \"cat\" in the tuple ('dog', 'cat', 'rabbit')."
      ],
      "metadata": {
        "id": "TxpS-PeTHozD"
      }
    },
    {
      "cell_type": "code",
      "source": [
        "colors = ('red', 'green', 'blue', 'yellow')\n",
        "index_of_blue = colors.index('blue')\n",
        "print(\"Index of 'blue':\", index_of_blue)\n"
      ],
      "metadata": {
        "colab": {
          "base_uri": "https://localhost:8080/"
        },
        "id": "12G08Pu6HnVc",
        "outputId": "171284b0-1734-456b-d83a-941c7c380840"
      },
      "execution_count": 40,
      "outputs": [
        {
          "output_type": "stream",
          "name": "stdout",
          "text": [
            "Index of 'blue': 2\n"
          ]
        }
      ]
    },
    {
      "cell_type": "markdown",
      "source": [
        "###15.. Write a code to create a tuple containing three different fruits and check if \"kiwi\" is in it."
      ],
      "metadata": {
        "id": "kq04Q7-7IFC1"
      }
    },
    {
      "cell_type": "code",
      "source": [
        "Shopping_list = (\"apple\", \"banana\", \"coconut\", \"potato\")"
      ],
      "metadata": {
        "id": "8qlh_84SINOs"
      },
      "execution_count": 43,
      "outputs": []
    },
    {
      "cell_type": "code",
      "source": [
        "\"kiwi\" in Shopping_list"
      ],
      "metadata": {
        "colab": {
          "base_uri": "https://localhost:8080/"
        },
        "id": "IrQy4gonIZmq",
        "outputId": "2d10d509-9dbf-48ba-9e2e-c354c6172614"
      },
      "execution_count": 44,
      "outputs": [
        {
          "output_type": "execute_result",
          "data": {
            "text/plain": [
              "False"
            ]
          },
          "metadata": {},
          "execution_count": 44
        }
      ]
    },
    {
      "cell_type": "markdown",
      "source": [
        "###16. Write a code to create a set with the elements 'a', 'b', 'c' and print it."
      ],
      "metadata": {
        "id": "0Bm7ub5TIwaW"
      }
    },
    {
      "cell_type": "code",
      "source": [
        "set = {\"a\", \"b\" ,\"c\"}\n",
        "print(set)"
      ],
      "metadata": {
        "colab": {
          "base_uri": "https://localhost:8080/"
        },
        "id": "kqI_zTwoIgCz",
        "outputId": "4cbbdac0-eb88-454a-e2fe-85fc9218cfaa"
      },
      "execution_count": 45,
      "outputs": [
        {
          "output_type": "stream",
          "name": "stdout",
          "text": [
            "{'a', 'c', 'b'}\n"
          ]
        }
      ]
    },
    {
      "cell_type": "markdown",
      "source": [
        "###17.Write a code to clear all elements from the set {1, 2, 3, 4, 5}"
      ],
      "metadata": {
        "id": "X9QiPnGdJHDy"
      }
    },
    {
      "cell_type": "code",
      "source": [
        "X = {1, 2, 3, 4, 5}\n",
        "X.clear()\n",
        "print(X)"
      ],
      "metadata": {
        "colab": {
          "base_uri": "https://localhost:8080/"
        },
        "id": "1rFgpS-FJAf5",
        "outputId": "6e89ec2c-16af-47cf-cb91-a4a16d641667"
      },
      "execution_count": 46,
      "outputs": [
        {
          "output_type": "stream",
          "name": "stdout",
          "text": [
            "set()\n"
          ]
        }
      ]
    },
    {
      "cell_type": "markdown",
      "source": [
        "###18.Write a code to remove the element 4 from the set {1, 2, 3, 4}."
      ],
      "metadata": {
        "id": "aHY23awbJaYb"
      }
    },
    {
      "cell_type": "code",
      "source": [
        "Y = {1, 2 ,3 , 4}\n",
        "Y.remove(4)\n",
        "print(Y)"
      ],
      "metadata": {
        "colab": {
          "base_uri": "https://localhost:8080/"
        },
        "id": "qZDyUzo-JaGc",
        "outputId": "ce51e291-332b-4993-841d-2bd27157b429"
      },
      "execution_count": 47,
      "outputs": [
        {
          "output_type": "stream",
          "name": "stdout",
          "text": [
            "{1, 2, 3}\n"
          ]
        }
      ]
    },
    {
      "cell_type": "markdown",
      "source": [
        "###19.Write a code to find the union of two sets {1, 2, 3} and {3, 4, 5}."
      ],
      "metadata": {
        "id": "fr3aFciAKC-M"
      }
    },
    {
      "cell_type": "code",
      "source": [
        "s1= {1, 2, 3}\n",
        "s2= {3, 4, 5}\n",
        "union_set = s1.union(s2)\n",
        "print(union_set)"
      ],
      "metadata": {
        "colab": {
          "base_uri": "https://localhost:8080/"
        },
        "id": "Wjt8hELsJYF7",
        "outputId": "64e2ad7e-66c8-4b50-bc7c-0e5ce8a7d390"
      },
      "execution_count": 48,
      "outputs": [
        {
          "output_type": "stream",
          "name": "stdout",
          "text": [
            "{1, 2, 3, 4, 5}\n"
          ]
        }
      ]
    },
    {
      "cell_type": "markdown",
      "source": [
        "###20. Write a code to find the intersection of two sets {1, 2, 3} and {2, 3, 4}"
      ],
      "metadata": {
        "id": "TSfUhNgEKaLI"
      }
    },
    {
      "cell_type": "code",
      "source": [
        "s3= {1, 2, 3}\n",
        "s4= {3, 4, 5}\n",
        "Intersction_set= s3.intersection(s4)\n",
        "print(Intersction_set)"
      ],
      "metadata": {
        "colab": {
          "base_uri": "https://localhost:8080/"
        },
        "id": "BAxXPRqvKVd5",
        "outputId": "c212a9cc-df62-401e-e324-f0e8ec6b803f"
      },
      "execution_count": 49,
      "outputs": [
        {
          "output_type": "stream",
          "name": "stdout",
          "text": [
            "{3}\n"
          ]
        }
      ]
    },
    {
      "cell_type": "markdown",
      "source": [
        "###21.Write a code to create a dictionary with the keys \"name\", \"age\", and \"city\", and print it."
      ],
      "metadata": {
        "id": "2_3M6Ku-K4j1"
      }
    },
    {
      "cell_type": "code",
      "source": [
        "My_Dict = {\"Name\": \"Soumik\", \"Age\": 26, \"City\": \"Burdwan\"}\n",
        "print(My_Dict)"
      ],
      "metadata": {
        "colab": {
          "base_uri": "https://localhost:8080/"
        },
        "id": "uOwD5REPKyGZ",
        "outputId": "f41b4b86-6b95-436e-caeb-33c6fefdd6ee"
      },
      "execution_count": 50,
      "outputs": [
        {
          "output_type": "stream",
          "name": "stdout",
          "text": [
            "{'Name': 'Soumik', 'Age': 26, 'City': 'Burdwan'}\n"
          ]
        }
      ]
    },
    {
      "cell_type": "markdown",
      "source": [
        "###22.Write a code to add a new key-value pair \"country\": \"USA\" to the dictionary {'name': 'John', 'age': 25}"
      ],
      "metadata": {
        "id": "Z6jTW5YaLTZ4"
      }
    },
    {
      "cell_type": "code",
      "source": [
        "dict = {'name': 'John', 'age': 25}\n",
        "dict[\"country\"] = \"USA\"\n",
        "print(dict)"
      ],
      "metadata": {
        "colab": {
          "base_uri": "https://localhost:8080/"
        },
        "id": "qP2EqOwnLReR",
        "outputId": "fa93b663-2cb8-4212-a471-aaadcacdbb04"
      },
      "execution_count": 51,
      "outputs": [
        {
          "output_type": "stream",
          "name": "stdout",
          "text": [
            "{'name': 'John', 'age': 25, 'country': 'USA'}\n"
          ]
        }
      ]
    },
    {
      "cell_type": "markdown",
      "source": [
        "###23.. Write a code to access the value associated with the key \"name\" in the dictionary {'name': 'Alice', 'age:30"
      ],
      "metadata": {
        "id": "RYFvtBEULm_c"
      }
    },
    {
      "cell_type": "code",
      "source": [
        "info = {'name': 'Alice', 'age': 30}\n",
        "name_value = info['name']\n",
        "print(name_value)"
      ],
      "metadata": {
        "colab": {
          "base_uri": "https://localhost:8080/"
        },
        "id": "2DLb4hUZLkzg",
        "outputId": "5bd7a297-a72d-4e3c-8a6f-69ae1cc9f6d5"
      },
      "execution_count": 52,
      "outputs": [
        {
          "output_type": "stream",
          "name": "stdout",
          "text": [
            "Alice\n"
          ]
        }
      ]
    },
    {
      "cell_type": "markdown",
      "source": [
        "###24.. Write a code to remove the key \"age\" from the dictionary {'name': 'Bob', 'age': 22, 'city': 'New York'}."
      ],
      "metadata": {
        "id": "PxAGp5oqL-Dy"
      }
    },
    {
      "cell_type": "code",
      "source": [
        "info2= {'name': 'Bob', 'age': 22, 'city': 'New York'}\n",
        "del info2['age']\n",
        "print(info2)"
      ],
      "metadata": {
        "colab": {
          "base_uri": "https://localhost:8080/"
        },
        "id": "dh2HQoLfL6no",
        "outputId": "3a1683f8-2ba0-4e0c-9b9a-bbd38929135d"
      },
      "execution_count": 53,
      "outputs": [
        {
          "output_type": "stream",
          "name": "stdout",
          "text": [
            "{'name': 'Bob', 'city': 'New York'}\n"
          ]
        }
      ]
    },
    {
      "cell_type": "markdown",
      "source": [
        "###25.. Write a code to check if the key \"city\" exists in the dictionary {'name': 'Alice', 'city': 'Paris'}."
      ],
      "metadata": {
        "id": "zgHTKtO9NoKf"
      }
    },
    {
      "cell_type": "code",
      "source": [
        "address= {'name': 'Alice', 'city': 'Paris'}\n",
        "if 'city' in address:\n",
        "    print(\"The key 'city' exists in the dictionary.\")\n",
        "else:\n",
        "    print(\"The key 'city' does not exist in the dictionary.\")"
      ],
      "metadata": {
        "colab": {
          "base_uri": "https://localhost:8080/"
        },
        "id": "0uGv4J1rNwdH",
        "outputId": "ce089a33-d8aa-401b-d9df-5db78e6475fc"
      },
      "execution_count": 54,
      "outputs": [
        {
          "output_type": "stream",
          "name": "stdout",
          "text": [
            "The key 'city' exists in the dictionary.\n"
          ]
        }
      ]
    },
    {
      "cell_type": "markdown",
      "source": [
        "###26.Write a code to create a list, a tuple, and a dictionary, and print them all."
      ],
      "metadata": {
        "id": "-Yav5y26N_yJ"
      }
    },
    {
      "cell_type": "code",
      "source": [
        "my_list = [1, 2, \"apple\", 5.6]\n",
        "tuple = (1, 4, 90, 45, 22.5, 10.25)\n",
        "my_dict = {\"Name\":\"soumik\", \"age\":26, \"city\":\"Burdwan\"}\n",
        "print(\"List: \", my_list)\n",
        "print(\"Tuple: \", tuple)\n",
        "print(\"Dictionary: \", my_dict)"
      ],
      "metadata": {
        "colab": {
          "base_uri": "https://localhost:8080/"
        },
        "id": "MRBChEqTN-Ax",
        "outputId": "9cd8b0eb-303a-43c5-e2d4-d1e2962907dc"
      },
      "execution_count": 55,
      "outputs": [
        {
          "output_type": "stream",
          "name": "stdout",
          "text": [
            "List:  [1, 2, 'apple', 5.6]\n",
            "Tuple:  (1, 4, 90, 45, 22.5, 10.25)\n",
            "Dictionary:  {'Name': 'soumik', 'age': 26, 'city': 'Burdwan'}\n"
          ]
        }
      ]
    },
    {
      "cell_type": "markdown",
      "source": [
        "###27. Write a code to create a list of 5 random numbers between 1 and 100, sort it in ascending order, and print the result.(replaced)"
      ],
      "metadata": {
        "id": "RfeoJNHuPE5o"
      }
    },
    {
      "cell_type": "code",
      "source": [
        "import random\n",
        "\n",
        "# Create a list of 5 random numbers between 1 and 100\n",
        "random_numbers = [random.randint(1, 100) for _ in range(5)]\n",
        "\n",
        "# Sort the list in ascending order\n",
        "random_numbers.sort()\n",
        "\n",
        "# Print the result\n",
        "print(\"Sorted random numbers:\", random_numbers)\n"
      ],
      "metadata": {
        "colab": {
          "base_uri": "https://localhost:8080/"
        },
        "id": "1jPvq6KbOyXo",
        "outputId": "3b084ad5-9de8-46c9-dcd2-0489b85a18d8"
      },
      "execution_count": 56,
      "outputs": [
        {
          "output_type": "stream",
          "name": "stdout",
          "text": [
            "Sorted random numbers: [20, 24, 24, 37, 68]\n"
          ]
        }
      ]
    },
    {
      "cell_type": "markdown",
      "source": [
        "###28.. Write a code to create a list with strings and print the element at the third index"
      ],
      "metadata": {
        "id": "Zg0TnnVCPwik"
      }
    },
    {
      "cell_type": "code",
      "source": [
        "\n",
        "fruits = [\"apple\", \"banana\", \"cherry\", \"date\", \"elderberry\"]\n",
        "print(\"Element at index 3:\", fruits[3])\n"
      ],
      "metadata": {
        "colab": {
          "base_uri": "https://localhost:8080/"
        },
        "id": "0QBnW5rGPkPN",
        "outputId": "d72a5bec-0987-48de-9d42-295ea4af5055"
      },
      "execution_count": 57,
      "outputs": [
        {
          "output_type": "stream",
          "name": "stdout",
          "text": [
            "Element at index 3: date\n"
          ]
        }
      ]
    },
    {
      "cell_type": "markdown",
      "source": [
        "###29.Write a code to combine two dictionaries into one and print the result"
      ],
      "metadata": {
        "id": "n_YB1ylWQPEn"
      }
    },
    {
      "cell_type": "code",
      "source": [
        "\n",
        "dict1 = {'a': 1, 'b': 2}\n",
        "dict2 = {'c': 3, 'd': 4}\n",
        "\n",
        "combined_dict = {**dict1, **dict2}\n",
        "\n",
        "print(\"Combined dictionary:\", combined_dict)\n"
      ],
      "metadata": {
        "colab": {
          "base_uri": "https://localhost:8080/"
        },
        "id": "_gLzkZGoQOh7",
        "outputId": "1db3beff-2751-4066-eba0-bec7b150b778"
      },
      "execution_count": 58,
      "outputs": [
        {
          "output_type": "stream",
          "name": "stdout",
          "text": [
            "Combined dictionary: {'a': 1, 'b': 2, 'c': 3, 'd': 4}\n"
          ]
        }
      ]
    },
    {
      "cell_type": "markdown",
      "source": [
        "###30.Write a code to convert a list of strings into a set."
      ],
      "metadata": {
        "id": "aP7OIwZgRJvd"
      }
    },
    {
      "cell_type": "code",
      "source": [
        "# List of strings\n",
        "words = [\"apple\", \"banana\", \"cherry\", \"apple\", \"banana\"]\n",
        "\n",
        "# Convert list to set\n",
        "unique_words = set(words)\n",
        "\n",
        "# Print the set\n",
        "print(\"Set of unique words:\", unique_words)\n"
      ],
      "metadata": {
        "colab": {
          "base_uri": "https://localhost:8080/"
        },
        "id": "sHAiZtL6R3xO",
        "outputId": "011ea586-7d0b-49cd-86e6-0ca5ed9a51e3"
      },
      "execution_count": 1,
      "outputs": [
        {
          "output_type": "stream",
          "name": "stdout",
          "text": [
            "Set of unique words: {'banana', 'apple', 'cherry'}\n"
          ]
        }
      ]
    },
    {
      "cell_type": "code",
      "source": [],
      "metadata": {
        "id": "dSz9tH-dSKbt"
      },
      "execution_count": null,
      "outputs": []
    }
  ]
}